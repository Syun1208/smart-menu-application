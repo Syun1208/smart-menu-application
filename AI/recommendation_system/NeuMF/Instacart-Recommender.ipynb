{
 "cells": [
  {
   "cell_type": "code",
   "execution_count": 1,
   "metadata": {
    "scrolled": true
   },
   "outputs": [
    {
     "name": "stderr",
     "output_type": "stream",
     "text": [
      "Using TensorFlow backend.\n"
     ]
    }
   ],
   "source": [
    "from __future__ import division, print_function\n",
    "%matplotlib inline\n",
    "from utils import *\n",
    "from keras.layers.merge import dot, add, concatenate\n",
    "from pandas_summary import DataFrameSummary\n",
    "import seaborn as sns\n",
    "import sys\n",
    "import warnings\n",
    "warnings.filterwarnings(\"ignore\", category=DeprecationWarning) "
   ]
  },
  {
   "cell_type": "markdown",
   "metadata": {},
   "source": [
    "# StuffMyFridge: A Grocery Product Recommender"
   ]
  },
  {
   "cell_type": "markdown",
   "metadata": {},
   "source": [
    "The goal of this notebook is to build a grocery product recommendation system for users of the Instacart app. \n",
    "Instacart is a company that deliveres groceries from local stores.\n",
    "We will use “The Instacart Online Grocery Shopping Dataset 2017”, which can be found in https://www.instacart.com/datasets/grocery-shopping-2017."
   ]
  },
  {
   "cell_type": "markdown",
   "metadata": {},
   "source": [
    "Here is the data description: "
   ]
  },
  {
   "cell_type": "markdown",
   "metadata": {},
   "source": [
    "`orders` (3.4m rows, 206k users, 109 MB):\n",
    "* `order_id`: order identifier\n",
    "* `user_id`: customer identifier\n",
    "* `eval_set`: which evaluation set this order belongs in (see `SET` described below)\n",
    "* `order_number`: the order sequence number for this user (1 = first, n = nth)\n",
    "* `order_dow`: the day of the week the order was placed on\n",
    "* `order_hour_of_day`: the hour of the day the order was placed on\n",
    "* `days_since_prior`: days since the last order, capped at 30 (with NAs for `order_number` = 1)\n",
    "\n",
    "`products` (50k rows, 2.2 MB):\n",
    "* `product_id`: product identifier\n",
    "* `product_name`: name of the product\n",
    "* `aisle_id`: foreign key\n",
    "* `department_id`: foreign key\n",
    "\n",
    "`aisles` (134 rows, 2.6 kB):\n",
    "* `aisle_id`: aisle identifier\n",
    "* `aisle`: the name of the aisle\n",
    "\n",
    "`departments` (21 rows, 270 bytes):\n",
    "* `department_id`: department identifier\n",
    "* `department`: the name of the department\n",
    "\n",
    "`order_products__SET` (30m+ rows):\n",
    "* `order_id`: foreign key\n",
    "* `product_id`: foreign key\n",
    "* `add_to_cart_order`: order in which each product was added to cart\n",
    "* `reordered`: 1 if this product has been ordered by this user in the past, 0 otherwise\n",
    "\n",
    "where `SET` is one of the four following evaluation sets (`eval_set` in `orders`):\n",
    "* `\"prior\"`: orders prior to that users most recent order (~3.2m orders, 577.6 MB)\n",
    "* `\"train\"`: training data supplied to participants (~131k orders, 24.7 Mb)"
   ]
  },
  {
   "cell_type": "markdown",
   "metadata": {},
   "source": [
    "## Set up data"
   ]
  },
  {
   "cell_type": "markdown",
   "metadata": {},
   "source": [
    "Read data:"
   ]
  },
  {
   "cell_type": "code",
   "execution_count": 3,
   "metadata": {
    "collapsed": true,
    "scrolled": true
   },
   "outputs": [],
   "source": [
    "order_products_prior_df =  pd.read_csv('data/order_products__prior.csv', engine='c',  \n",
    "                                       dtype={'order_id': np.int32, 'product_id': np.int32,\n",
    "                                              'add_to_cart_order': np.int16, 'reordered': np.int8})\n",
    "\n",
    "order_products_train_df = pd.read_csv('data/order_products__train.csv', engine='c',  \n",
    "                                      dtype={'order_id': np.int32, 'product_id': np.int32, \n",
    "                                      'add_to_cart_order': np.int16, 'reordered': np.int8})\n",
    "\n",
    "orders_df = pd.read_csv('data/orders.csv', engine='c', \n",
    "                        dtype={'order_id': np.int32, 'user_id': np.int32, 'order_number': np.int32,\n",
    "                       'order_dow': np.int8, 'order_hour_of_day': np.int8, 'days_since_prior_order': np.float16})\n",
    "\n",
    "products_df = pd.read_csv(\"data/products.csv\", engine='c')\n",
    "\n",
    "aisles_df = pd.read_csv(\"data/aisles.csv\", engine='c')\n",
    "\n",
    "departments_df = pd.read_csv(\"data/departments.csv\", engine='c')"
   ]
  },
  {
   "cell_type": "markdown",
   "metadata": {},
   "source": [
    "Define dicts to go from ids to names and vice-versa"
   ]
  },
  {
   "cell_type": "code",
   "execution_count": 4,
   "metadata": {
    "collapsed": true
   },
   "outputs": [],
   "source": [
    "aisles_id2name = pd.Series(aisles_df.aisle.values, index=aisles_df.aisle_id).to_dict()\n",
    "prodid2aisle = pd.Series(products_df.aisle_id.values, index=products_df.product_id).to_dict()"
   ]
  },
  {
   "cell_type": "markdown",
   "metadata": {},
   "source": [
    "Useful info about dataset:"
   ]
  },
  {
   "cell_type": "code",
   "execution_count": 110,
   "metadata": {},
   "outputs": [
    {
     "name": "stdout",
     "output_type": "stream",
     "text": [
      "Total number of products: 49677\n",
      "Total number of users: 206209\n",
      "Total number of orders placed: 3421083\n",
      "Total number of products ordered: 32434489\n",
      "Average number of products per order: 9\n",
      "Number of products per aisle (top 10):\n"
     ]
    },
    {
     "data": {
      "image/png": "[encoded data removed]",
      "text/plain": [
       "<matplotlib.figure.Figure at 0x7fdffbb6fbe0>"
      ]
     },
     "metadata": {},
     "output_type": "display_data"
    }
   ],
   "source": [
    "print('Total number of products: {}'.format(order_products_prior_df.product_id.unique().shape[0]))\n",
    "print('Total number of users: {}'.format(orders_df.user_id.unique().shape[0]))\n",
    "print('Total number of orders placed: {}'.format(orders_df.shape[0]))\n",
    "print('Total number of products ordered: {}'.format(order_products_prior_df.shape[0]))\n",
    "print('Average number of products per order: {}'.format(round(order_products_prior_df.shape[0]/orders_df.shape[0])))\n",
    "\n",
    "prod_aisle_dist = products_df.groupby('aisle_id')['product_name'].count().sort_values(ascending=False)\n",
    "num_prods_per_aisle_sorted = list(zip(map(aisles_id2name.get, prod_aisle_dist.index), prod_aisle_dist.values ))\n",
    "print('Number of products per aisle (top 10):')\n",
    "dic = OrderedDict({x:y for x,y in num_prods_per_aisle_sorted[:10]})\n",
    "\n",
    "X = np.arange(len(dic))\n",
    "plt.bar(X, dic.values(), align='center', width=0.5)\n",
    "plt.xticks(X, dic.keys(), rotation = 90)\n",
    "ymax = max(dic.values()) + 100\n",
    "plt.ylim(0, ymax)\n",
    "plt.title('Number of products per aisle (top 10)')\n",
    "plt.show()"
   ]
  },
  {
   "cell_type": "markdown",
   "metadata": {},
   "source": [
    "Collect order and product info for each user and merge into a data frame df"
   ]
  },
  {
   "cell_type": "code",
   "execution_count": 6,
   "metadata": {
    "collapsed": true
   },
   "outputs": [],
   "source": [
    "df_train = orders_df.merge(order_products_train_df, how = 'inner', on = 'order_id')\n",
    "df_train = df_train.merge(products_df, how = 'inner', on = 'product_id')\n",
    "df_train.sort_values(['user_id', 'order_number'], axis=0, inplace=True)"
   ]
  },
  {
   "cell_type": "code",
   "execution_count": 7,
   "metadata": {
    "collapsed": true
   },
   "outputs": [],
   "source": [
    "df_prior = orders_df.merge(order_products_prior_df, how = 'inner', on = 'order_id')\n",
    "df_prior = df_prior.merge(products_df, how = 'inner', on = 'product_id')\n",
    "df_prior.sort_values(['user_id', 'order_number'], axis=0, inplace=True)"
   ]
  },
  {
   "cell_type": "code",
   "execution_count": 8,
   "metadata": {
    "collapsed": true
   },
   "outputs": [],
   "source": [
    "df = pd.concat([df_prior, df_train])"
   ]
  },
  {
   "cell_type": "code",
   "execution_count": 9,
   "metadata": {
    "collapsed": true
   },
   "outputs": [],
   "source": [
    "#fillna\n",
    "df.fillna(0,axis=0, inplace=True)\n",
    "df.drop('eval_set', axis=1, inplace = True)\n",
    "df.reset_index(drop = True, inplace = True)\n",
    "del df_train, df_prior"
   ]
  },
  {
   "cell_type": "code",
   "execution_count": 10,
   "metadata": {
    "collapsed": true
   },
   "outputs": [],
   "source": [
    "sample=int(1e5)\n",
    "df = df.iloc[:sample]"
   ]
  },
  {
   "cell_type": "code",
   "execution_count": 111,
   "metadata": {},
   "outputs": [],
   "source": [
    "df.head(3);"
   ]
  },
  {
   "cell_type": "markdown",
   "metadata": {},
   "source": [
    "## Product Rating per User"
   ]
  },
  {
   "cell_type": "markdown",
   "metadata": {},
   "source": [
    "Users did not rate products but we can figure how often a user bought a given product and then use this as a proxy for a rating score. "
   ]
  },
  {
   "cell_type": "code",
   "execution_count": 13,
   "metadata": {
    "collapsed": true
   },
   "outputs": [],
   "source": [
    "#Update product and user ids so that they are contiguous integers, which we want when using embeddings.\n",
    "g=df.groupby(['user_id','product_name','product_id'])\n",
    "\n",
    "#create prod_rating df and add a product_count feature (i.e. how many times has the user reordered the product)\n",
    "prod_ratings = g['reordered'].count().reset_index()\n",
    "prod_ratings.columns = ['user_id', 'product_name', 'product_id', 'product_count']"
   ]
  },
  {
   "cell_type": "code",
   "execution_count": 14,
   "metadata": {},
   "outputs": [],
   "source": [
    "users = prod_ratings.user_id.unique()\n",
    "prods = prod_ratings.product_id.unique()\n",
    "\n",
    "userid2idx = {o:i for i,o in enumerate(users)}\n",
    "prodid2idx = {o:i for i,o in enumerate(prods)}\n",
    "\n",
    "prod_ratings.product_id = prod_ratings.product_id.apply(lambda x: prodid2idx[x])\n",
    "prod_ratings.user_id = prod_ratings.user_id.apply(lambda x: userid2idx[x])"
   ]
  },
  {
   "cell_type": "code",
   "execution_count": 15,
   "metadata": {},
   "outputs": [
    {
     "name": "stdout",
     "output_type": "stream",
     "text": [
      "667 12469\n"
     ]
    }
   ],
   "source": [
    "#number of users and products in sample\n",
    "n_users = prod_ratings.user_id.nunique()\n",
    "n_prods = prod_ratings.product_id.nunique()\n",
    "print(n_users, n_prods)"
   ]
  },
  {
   "cell_type": "markdown",
   "metadata": {},
   "source": [
    "Here is a function that plots the product count distribution for a given user (top 10)"
   ]
  },
  {
   "cell_type": "code",
   "execution_count": 106,
   "metadata": {
    "collapsed": true,
    "scrolled": true
   },
   "outputs": [],
   "source": [
    "def product_dist(u_id):\n",
    "    '''Plot the product count distribution for a given user (top 10)'''\n",
    "    user_data = prod_ratings[prod_ratings.user_id==u_id]\n",
    "    sorted_tuple = sorted(zip(user_data.product_name, user_data.product_count), key =itemgetter(1), reverse = True)\n",
    "    user_dict = OrderedDict(sorted_tuple[:10])\n",
    "    x = np.arange(len(user_dict))\n",
    "    plt.bar(x, user_dict.values(), align='center', width=0.5)\n",
    "    plt.xticks(x, user_dict.keys(), rotation = 90)\n",
    "    ymax = max(user_dict.values()) + 1\n",
    "    plt.ylim(0, ymax)\n",
    "    plt.title('Product count distribution for user 0 (top 10 only)')\n",
    "    plt.show()"
   ]
  },
  {
   "cell_type": "code",
   "execution_count": 107,
   "metadata": {
    "scrolled": true
   },
   "outputs": [
    {
     "data": {
      "image/png": "[encoded data removed]",
      "text/plain": [
       "<matplotlib.figure.Figure at 0x7fdffbf5be48>"
      ]
     },
     "metadata": {},
     "output_type": "display_data"
    }
   ],
   "source": [
    "product_dist(0)"
   ]
  },
  {
   "cell_type": "markdown",
   "metadata": {},
   "source": [
    "Define star (1-5) and then apply it to the 'product_count' column to get 'product_rating'."
   ]
  },
  {
   "cell_type": "code",
   "execution_count": 152,
   "metadata": {},
   "outputs": [
    {
     "name": "stderr",
     "output_type": "stream",
     "text": [
      "/home/cyrfar/anaconda3/lib/python3.6/site-packages/sklearn/utils/validation.py:429: DataConversionWarning: Data with input dtype int64 was converted to float64 by MinMaxScaler.\n",
      "  warnings.warn(msg, _DataConversionWarning)\n"
     ]
    },
    {
     "data": {
      "text/html": [
       "<div>\n",
       "<style>\n",
       "    .dataframe thead tr:only-child th {\n",
       "        text-align: right;\n",
       "    }\n",
       "\n",
       "    .dataframe thead th {\n",
       "        text-align: left;\n",
       "    }\n",
       "\n",
       "    .dataframe tbody tr th {\n",
       "        vertical-align: top;\n",
       "    }\n",
       "</style>\n",
       "<table border=\"1\" class=\"dataframe\">\n",
       "  <thead>\n",
       "    <tr style=\"text-align: right;\">\n",
       "      <th></th>\n",
       "      <th>user_id</th>\n",
       "      <th>product_name</th>\n",
       "      <th>product_id</th>\n",
       "      <th>product_count</th>\n",
       "      <th>product_score</th>\n",
       "    </tr>\n",
       "  </thead>\n",
       "  <tbody>\n",
       "    <tr>\n",
       "      <th>0</th>\n",
       "      <td>0</td>\n",
       "      <td>0% Greek Strained Yogurt</td>\n",
       "      <td>0</td>\n",
       "      <td>1</td>\n",
       "      <td>1.0</td>\n",
       "    </tr>\n",
       "    <tr>\n",
       "      <th>1</th>\n",
       "      <td>0</td>\n",
       "      <td>Aged White Cheddar Popcorn</td>\n",
       "      <td>1</td>\n",
       "      <td>2</td>\n",
       "      <td>1.5</td>\n",
       "    </tr>\n",
       "    <tr>\n",
       "      <th>2</th>\n",
       "      <td>0</td>\n",
       "      <td>Bag of Organic Bananas</td>\n",
       "      <td>2</td>\n",
       "      <td>2</td>\n",
       "      <td>1.5</td>\n",
       "    </tr>\n",
       "    <tr>\n",
       "      <th>3</th>\n",
       "      <td>0</td>\n",
       "      <td>Bartlett Pears</td>\n",
       "      <td>3</td>\n",
       "      <td>1</td>\n",
       "      <td>1.0</td>\n",
       "    </tr>\n",
       "    <tr>\n",
       "      <th>4</th>\n",
       "      <td>0</td>\n",
       "      <td>Cinnamon Toast Crunch</td>\n",
       "      <td>4</td>\n",
       "      <td>3</td>\n",
       "      <td>2.0</td>\n",
       "    </tr>\n",
       "    <tr>\n",
       "      <th>5</th>\n",
       "      <td>0</td>\n",
       "      <td>Creamy Almond Butter</td>\n",
       "      <td>5</td>\n",
       "      <td>1</td>\n",
       "      <td>1.0</td>\n",
       "    </tr>\n",
       "    <tr>\n",
       "      <th>6</th>\n",
       "      <td>0</td>\n",
       "      <td>Honeycrisp Apples</td>\n",
       "      <td>6</td>\n",
       "      <td>1</td>\n",
       "      <td>1.0</td>\n",
       "    </tr>\n",
       "    <tr>\n",
       "      <th>7</th>\n",
       "      <td>0</td>\n",
       "      <td>Milk Chocolate Almonds</td>\n",
       "      <td>7</td>\n",
       "      <td>1</td>\n",
       "      <td>1.0</td>\n",
       "    </tr>\n",
       "    <tr>\n",
       "      <th>8</th>\n",
       "      <td>0</td>\n",
       "      <td>Organic Fuji Apples</td>\n",
       "      <td>8</td>\n",
       "      <td>1</td>\n",
       "      <td>1.0</td>\n",
       "    </tr>\n",
       "    <tr>\n",
       "      <th>9</th>\n",
       "      <td>0</td>\n",
       "      <td>Organic Half &amp; Half</td>\n",
       "      <td>9</td>\n",
       "      <td>2</td>\n",
       "      <td>1.5</td>\n",
       "    </tr>\n",
       "    <tr>\n",
       "      <th>10</th>\n",
       "      <td>0</td>\n",
       "      <td>Organic String Cheese</td>\n",
       "      <td>10</td>\n",
       "      <td>8</td>\n",
       "      <td>4.0</td>\n",
       "    </tr>\n",
       "    <tr>\n",
       "      <th>11</th>\n",
       "      <td>0</td>\n",
       "      <td>Organic Unsweetened Almond Milk</td>\n",
       "      <td>11</td>\n",
       "      <td>1</td>\n",
       "      <td>1.0</td>\n",
       "    </tr>\n",
       "    <tr>\n",
       "      <th>12</th>\n",
       "      <td>0</td>\n",
       "      <td>Organic Unsweetened Vanilla Almond Milk</td>\n",
       "      <td>12</td>\n",
       "      <td>1</td>\n",
       "      <td>1.0</td>\n",
       "    </tr>\n",
       "    <tr>\n",
       "      <th>13</th>\n",
       "      <td>0</td>\n",
       "      <td>Original Beef Jerky</td>\n",
       "      <td>13</td>\n",
       "      <td>10</td>\n",
       "      <td>5.0</td>\n",
       "    </tr>\n",
       "    <tr>\n",
       "      <th>14</th>\n",
       "      <td>0</td>\n",
       "      <td>Pistachios</td>\n",
       "      <td>14</td>\n",
       "      <td>9</td>\n",
       "      <td>4.5</td>\n",
       "    </tr>\n",
       "    <tr>\n",
       "      <th>15</th>\n",
       "      <td>0</td>\n",
       "      <td>Soda</td>\n",
       "      <td>15</td>\n",
       "      <td>10</td>\n",
       "      <td>5.0</td>\n",
       "    </tr>\n",
       "    <tr>\n",
       "      <th>16</th>\n",
       "      <td>0</td>\n",
       "      <td>XL Pick-A-Size Paper Towel Rolls</td>\n",
       "      <td>16</td>\n",
       "      <td>2</td>\n",
       "      <td>1.5</td>\n",
       "    </tr>\n",
       "    <tr>\n",
       "      <th>17</th>\n",
       "      <td>0</td>\n",
       "      <td>Zero Calorie Cola</td>\n",
       "      <td>17</td>\n",
       "      <td>3</td>\n",
       "      <td>2.0</td>\n",
       "    </tr>\n",
       "    <tr>\n",
       "      <th>18</th>\n",
       "      <td>1</td>\n",
       "      <td>100% Mighty Mango Juice Smoothie</td>\n",
       "      <td>18</td>\n",
       "      <td>1</td>\n",
       "      <td>1.0</td>\n",
       "    </tr>\n",
       "    <tr>\n",
       "      <th>19</th>\n",
       "      <td>1</td>\n",
       "      <td>All Natural Honey Almond Butter</td>\n",
       "      <td>19</td>\n",
       "      <td>1</td>\n",
       "      <td>1.0</td>\n",
       "    </tr>\n",
       "  </tbody>\n",
       "</table>\n",
       "</div>"
      ],
      "text/plain": [
       "    user_id                             product_name  product_id  \\\n",
       "0         0                 0% Greek Strained Yogurt           0   \n",
       "1         0               Aged White Cheddar Popcorn           1   \n",
       "2         0                   Bag of Organic Bananas           2   \n",
       "3         0                           Bartlett Pears           3   \n",
       "4         0                    Cinnamon Toast Crunch           4   \n",
       "5         0                     Creamy Almond Butter           5   \n",
       "6         0                        Honeycrisp Apples           6   \n",
       "7         0                   Milk Chocolate Almonds           7   \n",
       "8         0                      Organic Fuji Apples           8   \n",
       "9         0                      Organic Half & Half           9   \n",
       "10        0                    Organic String Cheese          10   \n",
       "11        0          Organic Unsweetened Almond Milk          11   \n",
       "12        0  Organic Unsweetened Vanilla Almond Milk          12   \n",
       "13        0                      Original Beef Jerky          13   \n",
       "14        0                               Pistachios          14   \n",
       "15        0                                     Soda          15   \n",
       "16        0         XL Pick-A-Size Paper Towel Rolls          16   \n",
       "17        0                        Zero Calorie Cola          17   \n",
       "18        1         100% Mighty Mango Juice Smoothie          18   \n",
       "19        1          All Natural Honey Almond Butter          19   \n",
       "\n",
       "    product_count  product_score  \n",
       "0               1            1.0  \n",
       "1               2            1.5  \n",
       "2               2            1.5  \n",
       "3               1            1.0  \n",
       "4               3            2.0  \n",
       "5               1            1.0  \n",
       "6               1            1.0  \n",
       "7               1            1.0  \n",
       "8               1            1.0  \n",
       "9               2            1.5  \n",
       "10              8            4.0  \n",
       "11              1            1.0  \n",
       "12              1            1.0  \n",
       "13             10            5.0  \n",
       "14              9            4.5  \n",
       "15             10            5.0  \n",
       "16              2            1.5  \n",
       "17              3            2.0  \n",
       "18              1            1.0  \n",
       "19              1            1.0  "
      ]
     },
     "execution_count": 152,
     "metadata": {},
     "output_type": "execute_result"
    }
   ],
   "source": [
    "from sklearn_pandas import DataFrameMapper\n",
    "from sklearn.preprocessing import MinMaxScaler\n",
    "\n",
    "def round_rating(number):\n",
    "    \"\"\"Round a number to the closest half integer\"\"\"\n",
    "    return np.round(number * 2) / 2\n",
    "\n",
    "mapper = DataFrameMapper([('product_count', MinMaxScaler())], df_out=True)\n",
    "\n",
    "#apply the mapper to each user and concatenate results\n",
    "dfs = [np.round(mapper.fit_transform(prod_ratings[prod_ratings.user_id==u].copy()), 1) for u in range(n_users)]\n",
    "\n",
    "prod_ratings['product_score'] = pd.concat(dfs).reset_index(drop=True)*4 + 1\n",
    "prod_ratings['product_score'] = round_rating(prod_ratings['product_score'])#.astype(int)\n",
    "#print(prod_ratings.shape)\n",
    "prod_ratings.head(20)"
   ]
  },
  {
   "cell_type": "markdown",
   "metadata": {},
   "source": [
    "Let us create a crosstab from the top 10 users and the top 10 products"
   ]
  },
  {
   "cell_type": "code",
   "execution_count": 21,
   "metadata": {
    "collapsed": true
   },
   "outputs": [],
   "source": [
    "g=prod_ratings.groupby('user_id')['product_score'].count()\n",
    "topUsers=g.sort_values(ascending=False)[:10]\n",
    "\n",
    "g=prod_ratings.groupby('product_name')['product_score'].count()\n",
    "topProds=g.sort_values(ascending=False)[:10]\n",
    "\n",
    "top_r = prod_ratings.join(topUsers, rsuffix='_r', how='inner', on='user_id')\n",
    "top_r = top_r.join(topProds, rsuffix='_r', how='inner', on='product_name')"
   ]
  },
  {
   "cell_type": "code",
   "execution_count": 22,
   "metadata": {
    "scrolled": false
   },
   "outputs": [
    {
     "data": {
      "text/html": [
       "<div>\n",
       "<style>\n",
       "    .dataframe thead tr:only-child th {\n",
       "        text-align: right;\n",
       "    }\n",
       "\n",
       "    .dataframe thead th {\n",
       "        text-align: left;\n",
       "    }\n",
       "\n",
       "    .dataframe tbody tr th {\n",
       "        vertical-align: top;\n",
       "    }\n",
       "</style>\n",
       "<table border=\"1\" class=\"dataframe\">\n",
       "  <thead>\n",
       "    <tr style=\"text-align: right;\">\n",
       "      <th>product_name</th>\n",
       "      <th>Bag of Organic Bananas</th>\n",
       "      <th>Banana</th>\n",
       "      <th>Large Lemon</th>\n",
       "      <th>Limes</th>\n",
       "      <th>Organic Avocado</th>\n",
       "      <th>Organic Baby Spinach</th>\n",
       "      <th>Organic Blueberries</th>\n",
       "      <th>Organic Hass Avocado</th>\n",
       "      <th>Organic Strawberries</th>\n",
       "      <th>Strawberries</th>\n",
       "    </tr>\n",
       "    <tr>\n",
       "      <th>user_id</th>\n",
       "      <th></th>\n",
       "      <th></th>\n",
       "      <th></th>\n",
       "      <th></th>\n",
       "      <th></th>\n",
       "      <th></th>\n",
       "      <th></th>\n",
       "      <th></th>\n",
       "      <th></th>\n",
       "      <th></th>\n",
       "    </tr>\n",
       "  </thead>\n",
       "  <tbody>\n",
       "    <tr>\n",
       "      <th>53</th>\n",
       "      <td>NaN</td>\n",
       "      <td>2.5</td>\n",
       "      <td>2.5</td>\n",
       "      <td>1.5</td>\n",
       "      <td>2.5</td>\n",
       "      <td>1.5</td>\n",
       "      <td>NaN</td>\n",
       "      <td>NaN</td>\n",
       "      <td>1.0</td>\n",
       "      <td>1.0</td>\n",
       "    </tr>\n",
       "    <tr>\n",
       "      <th>132</th>\n",
       "      <td>NaN</td>\n",
       "      <td>1.5</td>\n",
       "      <td>NaN</td>\n",
       "      <td>NaN</td>\n",
       "      <td>NaN</td>\n",
       "      <td>NaN</td>\n",
       "      <td>NaN</td>\n",
       "      <td>NaN</td>\n",
       "      <td>NaN</td>\n",
       "      <td>NaN</td>\n",
       "    </tr>\n",
       "    <tr>\n",
       "      <th>139</th>\n",
       "      <td>2.0</td>\n",
       "      <td>1.0</td>\n",
       "      <td>1.0</td>\n",
       "      <td>2.0</td>\n",
       "      <td>NaN</td>\n",
       "      <td>1.0</td>\n",
       "      <td>1.0</td>\n",
       "      <td>2.0</td>\n",
       "      <td>2.0</td>\n",
       "      <td>1.5</td>\n",
       "    </tr>\n",
       "    <tr>\n",
       "      <th>172</th>\n",
       "      <td>3.5</td>\n",
       "      <td>2.0</td>\n",
       "      <td>2.0</td>\n",
       "      <td>1.5</td>\n",
       "      <td>NaN</td>\n",
       "      <td>4.5</td>\n",
       "      <td>NaN</td>\n",
       "      <td>NaN</td>\n",
       "      <td>4.0</td>\n",
       "      <td>2.5</td>\n",
       "    </tr>\n",
       "    <tr>\n",
       "      <th>209</th>\n",
       "      <td>NaN</td>\n",
       "      <td>4.0</td>\n",
       "      <td>1.0</td>\n",
       "      <td>1.0</td>\n",
       "      <td>1.0</td>\n",
       "      <td>2.0</td>\n",
       "      <td>1.0</td>\n",
       "      <td>2.0</td>\n",
       "      <td>1.5</td>\n",
       "      <td>1.5</td>\n",
       "    </tr>\n",
       "    <tr>\n",
       "      <th>235</th>\n",
       "      <td>1.0</td>\n",
       "      <td>1.5</td>\n",
       "      <td>NaN</td>\n",
       "      <td>1.0</td>\n",
       "      <td>NaN</td>\n",
       "      <td>NaN</td>\n",
       "      <td>1.0</td>\n",
       "      <td>NaN</td>\n",
       "      <td>1.0</td>\n",
       "      <td>NaN</td>\n",
       "    </tr>\n",
       "    <tr>\n",
       "      <th>289</th>\n",
       "      <td>1.0</td>\n",
       "      <td>NaN</td>\n",
       "      <td>NaN</td>\n",
       "      <td>NaN</td>\n",
       "      <td>NaN</td>\n",
       "      <td>NaN</td>\n",
       "      <td>NaN</td>\n",
       "      <td>NaN</td>\n",
       "      <td>NaN</td>\n",
       "      <td>1.0</td>\n",
       "    </tr>\n",
       "    <tr>\n",
       "      <th>326</th>\n",
       "      <td>NaN</td>\n",
       "      <td>5.0</td>\n",
       "      <td>NaN</td>\n",
       "      <td>1.0</td>\n",
       "      <td>1.0</td>\n",
       "      <td>NaN</td>\n",
       "      <td>NaN</td>\n",
       "      <td>1.0</td>\n",
       "      <td>2.0</td>\n",
       "      <td>NaN</td>\n",
       "    </tr>\n",
       "    <tr>\n",
       "      <th>465</th>\n",
       "      <td>2.0</td>\n",
       "      <td>4.5</td>\n",
       "      <td>NaN</td>\n",
       "      <td>1.0</td>\n",
       "      <td>2.0</td>\n",
       "      <td>1.5</td>\n",
       "      <td>2.0</td>\n",
       "      <td>NaN</td>\n",
       "      <td>3.5</td>\n",
       "      <td>NaN</td>\n",
       "    </tr>\n",
       "    <tr>\n",
       "      <th>617</th>\n",
       "      <td>1.0</td>\n",
       "      <td>4.0</td>\n",
       "      <td>NaN</td>\n",
       "      <td>2.0</td>\n",
       "      <td>NaN</td>\n",
       "      <td>NaN</td>\n",
       "      <td>NaN</td>\n",
       "      <td>NaN</td>\n",
       "      <td>NaN</td>\n",
       "      <td>NaN</td>\n",
       "    </tr>\n",
       "  </tbody>\n",
       "</table>\n",
       "</div>"
      ],
      "text/plain": [
       "product_name  Bag of Organic Bananas  Banana  Large Lemon  Limes  \\\n",
       "user_id                                                            \n",
       "53                               NaN     2.5          2.5    1.5   \n",
       "132                              NaN     1.5          NaN    NaN   \n",
       "139                              2.0     1.0          1.0    2.0   \n",
       "172                              3.5     2.0          2.0    1.5   \n",
       "209                              NaN     4.0          1.0    1.0   \n",
       "235                              1.0     1.5          NaN    1.0   \n",
       "289                              1.0     NaN          NaN    NaN   \n",
       "326                              NaN     5.0          NaN    1.0   \n",
       "465                              2.0     4.5          NaN    1.0   \n",
       "617                              1.0     4.0          NaN    2.0   \n",
       "\n",
       "product_name  Organic Avocado  Organic Baby Spinach  Organic Blueberries  \\\n",
       "user_id                                                                    \n",
       "53                        2.5                   1.5                  NaN   \n",
       "132                       NaN                   NaN                  NaN   \n",
       "139                       NaN                   1.0                  1.0   \n",
       "172                       NaN                   4.5                  NaN   \n",
       "209                       1.0                   2.0                  1.0   \n",
       "235                       NaN                   NaN                  1.0   \n",
       "289                       NaN                   NaN                  NaN   \n",
       "326                       1.0                   NaN                  NaN   \n",
       "465                       2.0                   1.5                  2.0   \n",
       "617                       NaN                   NaN                  NaN   \n",
       "\n",
       "product_name  Organic Hass Avocado  Organic Strawberries  Strawberries  \n",
       "user_id                                                                 \n",
       "53                             NaN                   1.0           1.0  \n",
       "132                            NaN                   NaN           NaN  \n",
       "139                            2.0                   2.0           1.5  \n",
       "172                            NaN                   4.0           2.5  \n",
       "209                            2.0                   1.5           1.5  \n",
       "235                            NaN                   1.0           NaN  \n",
       "289                            NaN                   NaN           1.0  \n",
       "326                            1.0                   2.0           NaN  \n",
       "465                            NaN                   3.5           NaN  \n",
       "617                            NaN                   NaN           NaN  "
      ]
     },
     "execution_count": 22,
     "metadata": {},
     "output_type": "execute_result"
    }
   ],
   "source": [
    "pd.crosstab(top_r.user_id, top_r.product_name, top_r.product_score, aggfunc=np.sum)"
   ]
  },
  {
   "cell_type": "markdown",
   "metadata": {},
   "source": [
    "Randomly split into training and validation."
   ]
  },
  {
   "cell_type": "markdown",
   "metadata": {
    "heading_collapsed": true
   },
   "source": [
    "##  Simple dot product model using embeddings in Keras"
   ]
  },
  {
   "cell_type": "code",
   "execution_count": 105,
   "metadata": {
    "collapsed": true,
    "hidden": true
   },
   "outputs": [],
   "source": [
    "def embedding_input(name, n_in, n_out, reg):\n",
    "    inp = Input(shape=(1,), dtype='int64', name=name)\n",
    "    return inp, Embedding(input_dim=n_in, output_dim=n_out, input_length=1, embeddings_regularizer=l2(reg))(inp)"
   ]
  },
  {
   "cell_type": "code",
   "execution_count": 122,
   "metadata": {
    "collapsed": true,
    "hidden": true
   },
   "outputs": [],
   "source": [
    "np.random.seed = 42\n",
    "\n",
    "#split dataset into trn and val\n",
    "msk = np.random.rand(len(prod_ratings)) < 0.8\n",
    "trn = prod_ratings[msk]\n",
    "val = prod_ratings[~msk]\n",
    "\n",
    "#number of latent factors \n",
    "n_factors = 50\n",
    "\n",
    "#get embedding inputs\n",
    "user_in, u = embedding_input('user_in', n_users, n_factors, 10)\n",
    "prod_in, p = embedding_input('prod_in', n_prods, n_factors, 10)"
   ]
  },
  {
   "cell_type": "code",
   "execution_count": 123,
   "metadata": {
    "collapsed": true,
    "hidden": true
   },
   "outputs": [],
   "source": [
    "def create_bias(inp, n_in):\n",
    "    x = Embedding(input_dim=n_in, output_dim=1, input_length=1)(inp)\n",
    "    return Flatten()(x)"
   ]
  },
  {
   "cell_type": "code",
   "execution_count": 124,
   "metadata": {
    "collapsed": true,
    "hidden": true
   },
   "outputs": [],
   "source": [
    "ub = create_bias(user_in, n_users)\n",
    "pb = create_bias(prod_in, n_prods)"
   ]
  },
  {
   "cell_type": "code",
   "execution_count": 125,
   "metadata": {
    "hidden": true
   },
   "outputs": [
    {
     "name": "stdout",
     "output_type": "stream",
     "text": [
      "Train on 33379 samples, validate on 8311 samples\n",
      "Epoch 1/100\n",
      "33379/33379 [==============================] - 10s - loss: 149.0660 - rmse: 1.3852 - val_loss: 2.3759 - val_rmse: 1.2584\n",
      "Epoch 2/100\n",
      "33379/33379 [==============================] - 10s - loss: 2.2458 - rmse: 1.1784 - val_loss: 1.9427 - val_rmse: 1.0690\n",
      "Epoch 3/100\n",
      "33379/33379 [==============================] - 10s - loss: 1.8513 - rmse: 0.9926 - val_loss: 1.6190 - val_rmse: 0.9005\n",
      "Epoch 4/100\n",
      "33379/33379 [==============================] - 10s - loss: 1.5595 - rmse: 0.8318 - val_loss: 1.3822 - val_rmse: 0.7622\n",
      "Epoch 5/100\n",
      "33379/33379 [==============================] - 10s - loss: 1.3470 - rmse: 0.7078 - val_loss: 1.2113 - val_rmse: 0.6640\n",
      "Epoch 6/100\n",
      "33379/33379 [==============================] - 9s - loss: 1.1934 - rmse: 0.6249 - val_loss: 1.0894 - val_rmse: 0.6031\n",
      "Epoch 7/100\n",
      "33379/33379 [==============================] - 9s - loss: 1.0823 - rmse: 0.5760 - val_loss: 1.0024 - val_rmse: 0.5688\n",
      "Epoch 8/100\n",
      "33379/33379 [==============================] - 9s - loss: 1.0008 - rmse: 0.5491 - val_loss: 0.9400 - val_rmse: 0.5502\n",
      "Epoch 9/100\n",
      "33379/33379 [==============================] - 9s - loss: 0.9400 - rmse: 0.5355 - val_loss: 0.8947 - val_rmse: 0.5407\n",
      "Epoch 10/100\n",
      "33379/33379 [==============================] - 9s - loss: 0.8932 - rmse: 0.5275 - val_loss: 0.8618 - val_rmse: 0.5362\n",
      "Epoch 11/100\n",
      "33379/33379 [==============================] - 9s - loss: 0.8561 - rmse: 0.5225 - val_loss: 0.8371 - val_rmse: 0.5346\n",
      "Epoch 12/100\n",
      "33379/33379 [==============================] - 9s - loss: 0.8259 - rmse: 0.5189 - val_loss: 0.8184 - val_rmse: 0.5346\n",
      "Epoch 13/100\n",
      "33379/33379 [==============================] - 9s - loss: 0.8006 - rmse: 0.5154 - val_loss: 0.8042 - val_rmse: 0.5356\n",
      "Epoch 14/100\n",
      "33379/33379 [==============================] - 9s - loss: 0.7793 - rmse: 0.5121 - val_loss: 0.7934 - val_rmse: 0.5374\n",
      "Epoch 15/100\n",
      "33379/33379 [==============================] - 9s - loss: 0.7607 - rmse: 0.5095 - val_loss: 0.7849 - val_rmse: 0.5395\n",
      "Epoch 16/100\n",
      "33379/33379 [==============================] - 9s - loss: 0.7447 - rmse: 0.5069 - val_loss: 0.7785 - val_rmse: 0.5418\n",
      "Epoch 17/100\n",
      "33379/33379 [==============================] - 9s - loss: 0.7305 - rmse: 0.5045 - val_loss: 0.7735 - val_rmse: 0.5442\n",
      "Epoch 18/100\n",
      "33379/33379 [==============================] - 9s - loss: 0.7179 - rmse: 0.5026 - val_loss: 0.7696 - val_rmse: 0.5465\n",
      "Epoch 19/100\n",
      "33379/33379 [==============================] - 9s - loss: 0.7067 - rmse: 0.5007 - val_loss: 0.7667 - val_rmse: 0.5487\n",
      "Epoch 20/100\n",
      "33379/33379 [==============================] - 9s - loss: 0.6967 - rmse: 0.4982 - val_loss: 0.7648 - val_rmse: 0.5510\n",
      "Epoch 21/100\n",
      "33379/33379 [==============================] - 9s - loss: 0.6877 - rmse: 0.4961 - val_loss: 0.7635 - val_rmse: 0.5534\n",
      "Epoch 22/100\n",
      "33379/33379 [==============================] - 9s - loss: 0.6792 - rmse: 0.4942 - val_loss: 0.7620 - val_rmse: 0.5556\n",
      "Epoch 23/100\n",
      "33379/33379 [==============================] - 9s - loss: 0.6711 - rmse: 0.4923 - val_loss: 0.7609 - val_rmse: 0.5577\n",
      "Epoch 24/100\n",
      "33379/33379 [==============================] - 9s - loss: 0.6637 - rmse: 0.4905 - val_loss: 0.7604 - val_rmse: 0.5600\n",
      "Epoch 25/100\n",
      "33379/33379 [==============================] - 10s - loss: 0.6567 - rmse: 0.4891 - val_loss: 0.7599 - val_rmse: 0.5620\n",
      "Epoch 26/100\n",
      "33379/33379 [==============================] - 9s - loss: 0.6503 - rmse: 0.4874 - val_loss: 0.7599 - val_rmse: 0.5642\n",
      "Epoch 27/100\n",
      "33379/33379 [==============================] - 9s - loss: 0.6443 - rmse: 0.4859 - val_loss: 0.7599 - val_rmse: 0.5661\n",
      "Epoch 28/100\n",
      "33379/33379 [==============================] - 9s - loss: 0.6387 - rmse: 0.4846 - val_loss: 0.7601 - val_rmse: 0.5681\n"
     ]
    },
    {
     "data": {
      "text/plain": [
       "[<matplotlib.lines.Line2D at 0x7ff7417e7898>]"
      ]
     },
     "execution_count": 125,
     "metadata": {},
     "output_type": "execute_result"
    },
    {
     "data": {
      "image/png": "[encoded data removed]",
      "text/plain": [
       "<matplotlib.figure.Figure at 0x7ff7412dd3c8>"
      ]
     },
     "metadata": {},
     "output_type": "display_data"
    }
   ],
   "source": [
    "from keras import backend\n",
    "from keras.callbacks import EarlyStopping\n",
    "\n",
    "def rmse(y_true, y_pred):\n",
    "    '''Define Root Mean Squared Error as our custom metric'''\n",
    "    return backend.sqrt(backend.mean(backend.square(y_pred - y_true), axis=-1))\n",
    "\n",
    "callbacks = [EarlyStopping(monitor='val_loss', patience=2, verbose=0)]\n",
    "\n",
    "x = dot([u, p], axes=2)\n",
    "x = Flatten()(x)\n",
    "x = add([x, ub])\n",
    "x = add([x, pb])\n",
    "model = Model([user_in, prod_in], x)\n",
    "model.compile(Adam(0.001), loss='mse', metrics=[rmse])\n",
    "\n",
    "history = model.fit([trn.user_id, trn.product_id], trn.product_score, batch_size=64, epochs=100, \n",
    "          validation_data=([val.user_id, val.product_id], val.product_score), callbacks=callbacks)\n",
    "plt.plot(history.history['val_loss'])"
   ]
  },
  {
   "cell_type": "code",
   "execution_count": 126,
   "metadata": {
    "collapsed": true,
    "hidden": true
   },
   "outputs": [],
   "source": [
    "model.save_weights('models/simplemodel.h5')"
   ]
  },
  {
   "cell_type": "code",
   "execution_count": 127,
   "metadata": {
    "collapsed": true,
    "hidden": true,
    "scrolled": true
   },
   "outputs": [],
   "source": [
    "model.load_weights('models/simplemodel.h5')"
   ]
  },
  {
   "cell_type": "markdown",
   "metadata": {
    "hidden": true
   },
   "source": [
    "Helper function to predict new product scores"
   ]
  },
  {
   "cell_type": "code",
   "execution_count": 128,
   "metadata": {
    "collapsed": true,
    "hidden": true
   },
   "outputs": [],
   "source": [
    "def predictions(u_id, p_id):\n",
    "    '''create a product_name:product_score dictionary '''\n",
    "    return (prod_id2name[p_id], model.predict([np.array([u_id]), np.array([p_id])])[0][0])"
   ]
  },
  {
   "cell_type": "markdown",
   "metadata": {
    "hidden": true
   },
   "source": [
    "Recommend a list of product to a given user, using the top predicted product_scores"
   ]
  },
  {
   "cell_type": "code",
   "execution_count": 131,
   "metadata": {
    "collapsed": true,
    "hidden": true
   },
   "outputs": [],
   "source": [
    "def user_recommendation(u_id):\n",
    "    '''recommend 20 new products to user'''\n",
    "    \n",
    "    #exclude products the user has already bought\n",
    "    prods_to_rate = list(set(prod_ratings.product_id) - set(prod_ratings[prod_ratings.user_id==u_id].product_id))\n",
    "    \n",
    "    #predict the ratings for new unseen products\n",
    "    scores = {predictions(u_id,p)[0]:predictions(u_id,p)[1] for p in prods_to_rate}\n",
    "    \n",
    "    return sorted(scores.items(), key =itemgetter(1), reverse = True)[:20]"
   ]
  },
  {
   "cell_type": "code",
   "execution_count": 132,
   "metadata": {
    "hidden": true
   },
   "outputs": [
    {
     "data": {
      "text/plain": [
       "[('Banana', 2.7898536),\n",
       " ('Organic Whole Milk', 2.4741116),\n",
       " ('Clementines', 2.4148121),\n",
       " ('Organic Large Grade AA Brown Eggs', 2.3920307),\n",
       " ('Spring Water', 2.3823202),\n",
       " ('Hass Avocados', 2.3439169),\n",
       " ('Alpine Spring Water', 2.3277202),\n",
       " ('Organic Milk', 2.3247192),\n",
       " ('Sweet Kale Salad Mix', 2.2889214),\n",
       " ('Fat Free Milk', 2.2485492),\n",
       " ('Smartwater', 2.2467792),\n",
       " ('Distilled Water', 2.2383423),\n",
       " ('Organic Reduced Fat Omega-3 Milk', 2.2274618),\n",
       " ('Fresh CA Grown Eggs', 2.2108943),\n",
       " ('Organic Baby Spinach', 2.2090712),\n",
       " ('Organic Avocado', 2.1996541),\n",
       " ('Sourdough Bread', 2.1969614),\n",
       " ('2% Reduced Fat Organic Milk', 2.1829004),\n",
       " ('Vanilla Almond Breeze', 2.1760702),\n",
       " ('Roasted Pine Nut Hummus', 2.1695786)]"
      ]
     },
     "execution_count": 132,
     "metadata": {},
     "output_type": "execute_result"
    }
   ],
   "source": [
    "user_recommendation(0)"
   ]
  },
  {
   "cell_type": "code",
   "execution_count": 133,
   "metadata": {
    "hidden": true
   },
   "outputs": [
    {
     "data": {
      "text/plain": [
       "[('Bag of Organic Bananas', 2.4104011),\n",
       " ('Organic Whole Milk', 2.2609065),\n",
       " ('Clementines', 2.2016072),\n",
       " ('Organic Large Grade AA Brown Eggs', 2.1788259),\n",
       " ('Spring Water', 2.1691153),\n",
       " ('Hass Avocados', 2.1307118),\n",
       " ('Zero Calorie Cola', 2.1279752),\n",
       " ('Alpine Spring Water', 2.1145151),\n",
       " ('Organic Milk', 2.1115143),\n",
       " ('Sweet Kale Salad Mix', 2.0757165),\n",
       " ('Smartwater', 2.0335743),\n",
       " ('Distilled Water', 2.0251374),\n",
       " ('Organic Reduced Fat Omega-3 Milk', 2.0142567),\n",
       " ('Organic Half & Half', 2.0033634),\n",
       " ('Fresh CA Grown Eggs', 1.9976895),\n",
       " ('Organic Baby Spinach', 1.9958661),\n",
       " ('Organic Avocado', 1.986449),\n",
       " ('Sourdough Bread', 1.9837565),\n",
       " ('2% Reduced Fat Organic Milk', 1.9696956),\n",
       " ('Vanilla Almond Breeze', 1.9628654)]"
      ]
     },
     "execution_count": 133,
     "metadata": {},
     "output_type": "execute_result"
    }
   ],
   "source": [
    "user_recommendation(99)"
   ]
  },
  {
   "cell_type": "markdown",
   "metadata": {},
   "source": [
    "## Model: Feed user/prod embedding to a Neural Net"
   ]
  },
  {
   "cell_type": "code",
   "execution_count": 25,
   "metadata": {},
   "outputs": [
    {
     "name": "stdout",
     "output_type": "stream",
     "text": [
      "Train on 33352 samples, validate on 8338 samples\n",
      "Epoch 1/100\n",
      "33352/33352 [==============================] - 11s - loss: 5.0545 - rmse: 1.0389 - val_loss: 2.2899 - val_rmse: 0.5773\n",
      "Epoch 2/100\n",
      "33352/33352 [==============================] - 11s - loss: 2.2333 - rmse: 0.6910 - val_loss: 1.8372 - val_rmse: 0.6402\n",
      "Epoch 3/100\n",
      "33352/33352 [==============================] - 11s - loss: 1.6278 - rmse: 0.6457 - val_loss: 1.4954 - val_rmse: 0.6467\n",
      "Epoch 4/100\n",
      "33352/33352 [==============================] - 11s - loss: 1.3307 - rmse: 0.6298 - val_loss: 1.3123 - val_rmse: 0.6469\n",
      "Epoch 5/100\n",
      "33352/33352 [==============================] - 12s - loss: 1.1814 - rmse: 0.6242 - val_loss: 1.2181 - val_rmse: 0.6465\n",
      "Epoch 6/100\n",
      "33352/33352 [==============================] - 11s - loss: 1.1094 - rmse: 0.6238 - val_loss: 1.1644 - val_rmse: 0.6502\n",
      "Epoch 7/100\n",
      "33352/33352 [==============================] - 11s - loss: 1.0603 - rmse: 0.6241 - val_loss: 1.1227 - val_rmse: 0.6439\n",
      "Epoch 8/100\n",
      "33352/33352 [==============================] - 12s - loss: 1.0030 - rmse: 0.6237 - val_loss: 1.0554 - val_rmse: 0.6443\n",
      "Epoch 9/100\n",
      "33352/33352 [==============================] - 12s - loss: 0.9551 - rmse: 0.6233 - val_loss: 1.0496 - val_rmse: 0.6432\n",
      "Epoch 10/100\n",
      "33352/33352 [==============================] - 12s - loss: 0.9331 - rmse: 0.6229 - val_loss: 1.0123 - val_rmse: 0.6510\n",
      "Epoch 11/100\n",
      "33352/33352 [==============================] - 12s - loss: 0.9124 - rmse: 0.6234 - val_loss: 0.9967 - val_rmse: 0.6487\n",
      "Epoch 12/100\n",
      "33352/33352 [==============================] - 13s - loss: 0.8800 - rmse: 0.6234 - val_loss: 0.9664 - val_rmse: 0.6516\n",
      "Epoch 13/100\n",
      "33352/33352 [==============================] - 14s - loss: 0.8718 - rmse: 0.6229 - val_loss: 0.9605 - val_rmse: 0.6500\n",
      "Epoch 14/100\n",
      "33352/33352 [==============================] - 14s - loss: 0.8841 - rmse: 0.6228 - val_loss: 1.0397 - val_rmse: 0.6545\n",
      "Epoch 15/100\n",
      "33352/33352 [==============================] - 14s - loss: 0.9019 - rmse: 0.6233 - val_loss: 0.9725 - val_rmse: 0.6536\n",
      "Epoch 16/100\n",
      "33352/33352 [==============================] - 14s - loss: 0.9007 - rmse: 0.6230 - val_loss: 0.9840 - val_rmse: 0.6540\n"
     ]
    },
    {
     "data": {
      "text/plain": [
       "[<matplotlib.lines.Line2D at 0x7fe013b50320>]"
      ]
     },
     "execution_count": 25,
     "metadata": {},
     "output_type": "execute_result"
    },
    {
     "data": {
      "image/png": "[encoded data removed]",
      "text/plain": [
       "<matplotlib.figure.Figure at 0x7fe018aeaf98>"
      ]
     },
     "metadata": {},
     "output_type": "display_data"
    }
   ],
   "source": [
    "from keras import backend\n",
    "from keras.callbacks import EarlyStopping\n",
    "\n",
    "def embedding_input(name, n_in, n_out, reg):\n",
    "    '''returns input and its embedding using Keras'''\n",
    "    inp = Input(shape=(1,), dtype='int64', name=name)\n",
    "    return inp, Embedding(input_dim=n_in, output_dim=n_out, input_length=1, embeddings_regularizer=l2(reg))(inp)\n",
    "\n",
    "def rmse(y_true, y_pred):\n",
    "    '''Define Root Mean Squared Error as a custom metric'''\n",
    "    return backend.sqrt(backend.mean(backend.square(y_pred - y_true), axis=-1))\n",
    "\n",
    "#number of elements in embedding layer (latent factors)\n",
    "n_factors=50\n",
    "\n",
    "#get input and embedding for users and products\n",
    "user_in, u = embedding_input('user_in', n_users, n_factors, 0.1)\n",
    "prod_in, p = embedding_input('prod_in', n_prods, n_factors, 0.1)\n",
    "\n",
    "#stop training when val_loss starts to increase\n",
    "callbacks = [EarlyStopping(monitor='val_loss', patience=2, verbose=0)]\n",
    "\n",
    "#model: concat embedding layers and feed to neural net\n",
    "x = concatenate([u, p], axis=2)\n",
    "x = Flatten()(x)\n",
    "x = Dropout(0.8)(x)\n",
    "x = BatchNormalization()(x)\n",
    "x = Dense(50, activation='relu')(x)\n",
    "x = Dropout(0.8)(x)\n",
    "x = BatchNormalization()(x)\n",
    "x = Dense(10, activation='relu')(x)\n",
    "x = Dropout(0.8)(x)\n",
    "x = BatchNormalization()(x)\n",
    "x = Dense(5, activation='relu')(x)\n",
    "x = Dropout(0.8)(x)\n",
    "x = BatchNormalization()(x)\n",
    "x = Dense(1)(x)\n",
    "nn = Model([user_in, prod_in], x)\n",
    "nn.compile(optimizer=Adam(0.001), loss='mse', metrics=[rmse])\n",
    "\n",
    "history = nn.fit([prod_ratings.user_id, prod_ratings.product_id], prod_ratings.product_score, batch_size=64,\n",
    "       epochs=100, validation_split=0.2, verbose =1, callbacks=callbacks)\n",
    "plt.plot(history.history['val_loss'])"
   ]
  },
  {
   "cell_type": "code",
   "execution_count": 26,
   "metadata": {
    "collapsed": true
   },
   "outputs": [],
   "source": [
    "nn.save_weights('models/nn5.h5')"
   ]
  },
  {
   "cell_type": "code",
   "execution_count": null,
   "metadata": {
    "collapsed": true
   },
   "outputs": [],
   "source": [
    "nn.load_weights('models/nn5.h5')"
   ]
  },
  {
   "cell_type": "code",
   "execution_count": 113,
   "metadata": {
    "collapsed": true
   },
   "outputs": [],
   "source": [
    "#prod id to prod name dictionary:\n",
    "prod_id2name = pd.Series(prod_ratings.product_name.values, index=prod_ratings.product_id).to_dict()\n",
    "\n",
    "def predictions_nn(u_id, p_id):\n",
    "    '''create a product_name:product_score dictionary '''\n",
    "    return (prod_id2name[p_id], nn.predict([np.array([u_id]), np.array([p_id])])[0][0])\n",
    "\n",
    "def user_recommendation_nn(u_id):\n",
    "    '''recommend 20 new products to user'''\n",
    "    \n",
    "    #exclude products the user has already bought\n",
    "    prods_to_rate = list(set(prod_ratings.product_id) - set(prod_ratings[prod_ratings.user_id==u_id].product_id))\n",
    "    \n",
    "    #predict the ratings for new unseen products\n",
    "    scores = {predictions_nn(u_id,p)[0]:predictions_nn(u_id,p)[1] for p in prods_to_rate}\n",
    "    \n",
    "    return list(OrderedDict(sorted(scores.items(), key =itemgetter(1), reverse = True)))[:20]"
   ]
  },
  {
   "cell_type": "code",
   "execution_count": 142,
   "metadata": {},
   "outputs": [
    {
     "data": {
      "image/png": "[encoded data removed]",
      "text/plain": [
       "<matplotlib.figure.Figure at 0x7fe0c6b18b70>"
      ]
     },
     "metadata": {},
     "output_type": "display_data"
    }
   ],
   "source": [
    "product_dist(0)"
   ]
  },
  {
   "cell_type": "code",
   "execution_count": 28,
   "metadata": {},
   "outputs": [
    {
     "data": {
      "text/plain": [
       "['Organic Low Fat Cottage Cheese',\n",
       " 'Honey Maid Graham Cracker Crumbs',\n",
       " 'The Original Five Cheese Texas Toast',\n",
       " 'Nacho Cheese Tortilla Chips',\n",
       " 'Cheese Pizza Rolls',\n",
       " 'Organic Cold Season Tea Bags',\n",
       " 'Toasted Coconut Almondmilk Blend',\n",
       " 'Roasted Pine Nut Hummus',\n",
       " 'Honeycrisp Bag',\n",
       " 'Junior Natur Medium Toothbrush',\n",
       " 'Maca Powder',\n",
       " 'Organic Carrot Bunch',\n",
       " 'Organic Yams',\n",
       " 'Chocolate Chip Cookie Dough Ice Cream',\n",
       " 'Medium Cheddar Deli Sliced Cheese',\n",
       " 'Organic Five Spice Tofu Nuggets',\n",
       " 'Broccoli Florettes',\n",
       " 'Gluten Free Whole Grain Bread',\n",
       " 'Lowfat Peach Kefir Probiotic Cultured Milk Smoothie',\n",
       " 'Organic Blueberry Waffles']"
      ]
     },
     "execution_count": 28,
     "metadata": {},
     "output_type": "execute_result"
    }
   ],
   "source": [
    "user_recommendation_nn(0)"
   ]
  },
  {
   "cell_type": "markdown",
   "metadata": {},
   "source": [
    "## Analyze results"
   ]
  },
  {
   "cell_type": "markdown",
   "metadata": {},
   "source": [
    "For simplicity, we restrict the analysis to the top 2000 most popular products."
   ]
  },
  {
   "cell_type": "code",
   "execution_count": 116,
   "metadata": {
    "collapsed": true
   },
   "outputs": [],
   "source": [
    "g_names=prod_ratings.groupby(['product_name'])['product_count'].sum()\n",
    "g=prod_ratings.groupby(['product_id'])['product_count'].sum()\n",
    "\n",
    "topProds_names = g_names.sort_values(ascending=False)[:2000]\n",
    "topProds=g.sort_values(ascending=False)[:2000]\n",
    "topProds = np.array(topProds.index)"
   ]
  },
  {
   "cell_type": "markdown",
   "metadata": {},
   "source": [
    "list of top 10 products"
   ]
  },
  {
   "cell_type": "code",
   "execution_count": 118,
   "metadata": {},
   "outputs": [
    {
     "data": {
      "text/plain": [
       "product_name\n",
       "Banana                    1252\n",
       "Bag of Organic Bananas    1151\n",
       "Organic Strawberries       883\n",
       "Organic Hass Avocado       769\n",
       "Organic Baby Spinach       727\n",
       "Organic Avocado            526\n",
       "Organic Raspberries        449\n",
       "Limes                      422\n",
       "Large Lemon                421\n",
       "Organic Zucchini           412\n",
       "Name: product_count, dtype: int64"
      ]
     },
     "execution_count": 118,
     "metadata": {},
     "output_type": "execute_result"
    }
   ],
   "source": [
    "topProds_names[:10]"
   ]
  },
  {
   "cell_type": "markdown",
   "metadata": {},
   "source": [
    "Now we can look at the top and bottom rated products and their embeddings."
   ]
  },
  {
   "cell_type": "code",
   "execution_count": 64,
   "metadata": {},
   "outputs": [
    {
     "data": {
      "text/plain": [
       "(2000, 50)"
      ]
     },
     "execution_count": 64,
     "metadata": {},
     "output_type": "execute_result"
    }
   ],
   "source": [
    "get_prod_emb = Model(prod_in, p)\n",
    "prod_emb = np.squeeze(get_prod_emb.predict([topProds]))\n",
    "prod_emb.shape"
   ]
  },
  {
   "cell_type": "markdown",
   "metadata": {},
   "source": [
    "Because it's hard to interpret 50 embedding factors, we use [PCA](https://plot.ly/ipython-notebooks/principal-component-analysis/) to simplify them down to just 3 vectors. "
   ]
  },
  {
   "cell_type": "code",
   "execution_count": 68,
   "metadata": {
    "collapsed": true
   },
   "outputs": [],
   "source": [
    "from sklearn.decomposition import PCA\n",
    "pca = PCA(n_components=3)\n",
    "prod_pca = pca.fit(prod_emb.T).components_"
   ]
  },
  {
   "cell_type": "markdown",
   "metadata": {},
   "source": [
    "Here's the 1st component. Hard to tell what these features represent..."
   ]
  },
  {
   "cell_type": "code",
   "execution_count": 119,
   "metadata": {
    "collapsed": true
   },
   "outputs": [],
   "source": [
    "c0 = prod_pca[0]\n",
    "prod_comp = [(c, prod_id2name[i]) for c,i in zip(c0, topProds)]"
   ]
  },
  {
   "cell_type": "code",
   "execution_count": 143,
   "metadata": {},
   "outputs": [],
   "source": [
    "sorted(prod_comp, key=itemgetter(0), reverse=True)[:10];"
   ]
  },
  {
   "cell_type": "code",
   "execution_count": 144,
   "metadata": {},
   "outputs": [],
   "source": [
    "sorted(prod_comp, key=itemgetter(0))[:10];"
   ]
  },
  {
   "cell_type": "markdown",
   "metadata": {},
   "source": [
    "Here's the 2nd component"
   ]
  },
  {
   "cell_type": "code",
   "execution_count": 122,
   "metadata": {
    "collapsed": true
   },
   "outputs": [],
   "source": [
    "c1 = prod_pca[1]\n",
    "prod_comp = [(c, prod_id2name[i]) for c,i in zip(c1, topProds)]"
   ]
  },
  {
   "cell_type": "code",
   "execution_count": 145,
   "metadata": {},
   "outputs": [],
   "source": [
    "sorted(prod_comp, key=itemgetter(0), reverse=True)[:10];"
   ]
  },
  {
   "cell_type": "code",
   "execution_count": 146,
   "metadata": {
    "scrolled": true
   },
   "outputs": [],
   "source": [
    "sorted(prod_comp1, key=itemgetter(0))[:10];"
   ]
  },
  {
   "cell_type": "markdown",
   "metadata": {},
   "source": [
    "Here's the 3rd component"
   ]
  },
  {
   "cell_type": "code",
   "execution_count": 128,
   "metadata": {
    "collapsed": true
   },
   "outputs": [],
   "source": [
    "c2 = prod_pca[2]\n",
    "prod_comp = [(c, prod_id2name[i]) for c,i in zip(c2, topProds)]"
   ]
  },
  {
   "cell_type": "code",
   "execution_count": 147,
   "metadata": {},
   "outputs": [],
   "source": [
    "sorted(prod_comp, key=itemgetter(0), reverse=True)[:10];"
   ]
  },
  {
   "cell_type": "code",
   "execution_count": 148,
   "metadata": {},
   "outputs": [],
   "source": [
    "sorted(prod_comp, key=itemgetter(0))[:10];"
   ]
  },
  {
   "cell_type": "markdown",
   "metadata": {},
   "source": [
    "We can draw a picture to see how various products appear on the map of these components. This picture shows the 1st and 3rd components."
   ]
  },
  {
   "cell_type": "code",
   "execution_count": 135,
   "metadata": {},
   "outputs": [
    {
     "data": {
      "image/png": "[encoded data removed]",
      "text/plain": [
       "<matplotlib.figure.Figure at 0x7fdffb607630>"
      ]
     },
     "metadata": {},
     "output_type": "display_data"
    }
   ],
   "source": [
    "start=50; end=80\n",
    "X = prod_pca[0][start:end]\n",
    "Y = prod_pca[1][start:end]\n",
    "plt.figure(figsize=(15,15))\n",
    "plt.scatter(X, Y)\n",
    "for i, x, y in zip(topProds[start:end], X, Y):\n",
    "    plt.text(x,y,prod_names()[prod_ratings.product_id[i]], color=np.random.rand(3)*0.7, fontsize=14)\n",
    "plt.show()"
   ]
  },
  {
   "cell_type": "code",
   "execution_count": null,
   "metadata": {
    "collapsed": true
   },
   "outputs": [],
   "source": []
  }
 ],
 "metadata": {
  "kernelspec": {
   "display_name": "Python 3",
   "language": "python",
   "name": "python3"
  },
  "language_info": {
   "codemirror_mode": {
    "name": "ipython",
    "version": 3
   },
   "file_extension": ".py",
   "mimetype": "text/x-python",
   "name": "python",
   "nbconvert_exporter": "python",
   "pygments_lexer": "ipython3",
   "version": "3.6.1"
  },
  "toc": {
   "colors": {
    "hover_highlight": "#DAA520",
    "navigate_num": "#000000",
    "navigate_text": "#333333",
    "running_highlight": "#FF0000",
    "selected_highlight": "#FFD700",
    "sidebar_border": "#EEEEEE",
    "wrapper_background": "#FFFFFF"
   },
   "moveMenuLeft": true,
   "nav_menu": {
    "height": "105px",
    "width": "254px"
   },
   "navigate_menu": true,
   "number_sections": true,
   "sideBar": true,
   "threshold": 4,
   "toc_cell": false,
   "toc_position": {
    "height": "709px",
    "left": "0px",
    "right": "1431.82px",
    "top": "82px",
    "width": "255px"
   },
   "toc_section_display": "block",
   "toc_window_display": true,
   "widenNotebook": false
  }
 },
 "nbformat": 4,
 "nbformat_minor": 1
}
